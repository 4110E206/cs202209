{
  "nbformat": 4,
  "nbformat_minor": 0,
  "metadata": {
    "colab": {
      "provenance": [],
      "collapsed_sections": []
    },
    "kernelspec": {
      "name": "python3",
      "display_name": "Python 3"
    },
    "language_info": {
      "name": "python"
    }
  },
  "cells": [
    {
      "cell_type": "markdown",
      "source": [
        "# 1019 4110E206 Mary Cris Bonode"
      ],
      "metadata": {
        "id": "XDbiIDn0QDeB"
      }
    },
    {
      "cell_type": "markdown",
      "source": [
        "For Loops"
      ],
      "metadata": {
        "id": "SmNZG1VuQHqS"
      }
    },
    {
      "cell_type": "markdown",
      "source": [
        "Example\n",
        "Print each fruit in a fruit list:"
      ],
      "metadata": {
        "id": "uJ1DPgMpQM2T"
      }
    },
    {
      "cell_type": "code",
      "execution_count": 1,
      "metadata": {
        "colab": {
          "base_uri": "https://localhost:8080/"
        },
        "id": "gEYe9Z8sP0kq",
        "outputId": "8d5f3651-11d1-4a0b-e32a-68b0043519f4"
      },
      "outputs": [
        {
          "output_type": "stream",
          "name": "stdout",
          "text": [
            "grapes\n",
            "lemon\n",
            "coconut\n",
            "watermelon\n"
          ]
        }
      ],
      "source": [
        "fruits = [\"grapes\", \"lemon\", \"coconut\", \"watermelon\"]\n",
        "for x in fruits:\n",
        "  print(x)"
      ]
    }
  ]
}