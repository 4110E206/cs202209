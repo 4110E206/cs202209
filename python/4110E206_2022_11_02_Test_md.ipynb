{
  "cells": [
    {
      "cell_type": "markdown",
      "metadata": {
        "id": "sEZ9gUv80Jfu"
      },
      "source": [
        "#**1102 TEST**"
      ]
    },
    {
      "cell_type": "markdown",
      "metadata": {
        "id": "9n1svFcqxjj4"
      },
      "source": [
        "***00410E206*** **MARY CRIS BONODE**"
      ]
    },
    {
      "cell_type": "markdown",
      "metadata": {
        "id": "sju7pJ9P2fRU"
      },
      "source": [
        "#**NO. 01**"
      ]
    },
    {
      "cell_type": "markdown",
      "metadata": {
        "id": "NInsgxjf3ks7"
      },
      "source": [
        "Which following is the correct way to create a dictionary in Python?\n",
        "   (A) students = { 'name' => 'alice' ;  'score' =>60 }\n",
        "   (B) students = { 'name' = 'alice' ;  'score' =60 }\n",
        "   (C) students = { 'name' : 'alice' ;  'score' : 60 }\n",
        "   (D) students = { 'name' => 'alice' ,  'score' =>60 }\n",
        "   (E) students = { 'name' : 'alice' , 'score' : 60 }\n",
        "\n",
        "**Answer: E**\n",
        "   "
      ]
    },
    {
      "cell_type": "markdown",
      "metadata": {
        "id": "F_VmQFcf6Fx1"
      },
      "source": [
        "# **ANSWER** \n"
      ]
    },
    {
      "cell_type": "markdown",
      "metadata": {
        "id": "msM8_9mU0Qq5"
      },
      "source": [
        "**E**"
      ]
    },
    {
      "cell_type": "code",
      "execution_count": null,
      "metadata": {
        "id": "ARSYUFKH4NkV"
      },
      "outputs": [],
      "source": [
        "students = { 'name' : 'alice' , 'score' : 60 }"
      ]
    },
    {
      "cell_type": "markdown",
      "metadata": {
        "id": "Dom_xmzC0jGZ"
      },
      "source": [
        "# **NO. 02**"
      ]
    },
    {
      "cell_type": "markdown",
      "metadata": {
        "id": "4qc4K57lQOJr"
      },
      "source": [
        "What does the following Python program fragment do?"
      ]
    },
    {
      "cell_type": "code",
      "execution_count": null,
      "metadata": {
        "id": "1iXItxBXVJMr"
      },
      "outputs": [],
      "source": [
        "s=0"
      ]
    },
    {
      "cell_type": "markdown",
      "metadata": {
        "id": "qcanD-jgVNP-"
      },
      "source": [
        "for i in range (3 , 10) :"
      ]
    },
    {
      "cell_type": "code",
      "execution_count": null,
      "metadata": {
        "id": "_YJohYLYVRXH"
      },
      "outputs": [],
      "source": [
        " s+=i"
      ]
    },
    {
      "cell_type": "markdown",
      "metadata": {
        "id": "QR5HSgjIVXKX"
      },
      "source": [
        "print (s)\n",
        "\n",
        "(A) Calculate the sum of 1+2+…+10\n",
        "\n",
        "(B) Calculate the sum of 1+4+7+10\n",
        "\n",
        "(C) Calculate the sum of 3+4+5+6+…+9\n",
        "\n",
        "(D) Calculate the sum of 3+4+5+6+…+10\n",
        "\n",
        "(E) Calculate the sum of 0+2+4+6+…+10\n",
        "\n",
        "\n",
        "**Answer:** **C**"
      ]
    },
    {
      "cell_type": "code",
      "execution_count": null,
      "metadata": {
        "colab": {
          "background_save": true
        },
        "id": "FUitltblX10i",
        "outputId": "1f457dfb-7927-4350-c44f-2feb952d4232"
      },
      "outputs": [
        {
          "name": "stdout",
          "output_type": "stream",
          "text": [
            "42\n"
          ]
        }
      ],
      "source": [
        "s=0\n",
        "for i in range (3 , 10) :\n",
        "  s+=i\n",
        "\n",
        "print (s)"
      ]
    },
    {
      "cell_type": "markdown",
      "metadata": {
        "id": "bw2hsInYYAfQ"
      },
      "source": [
        "# **ANSWER**"
      ]
    },
    {
      "cell_type": "markdown",
      "source": [
        "**C**"
      ],
      "metadata": {
        "id": "Kz4e1nIGdUBD"
      }
    },
    {
      "cell_type": "markdown",
      "source": [
        "# **NO. 03**"
      ],
      "metadata": {
        "id": "T3s-nz2ndYw_"
      }
    },
    {
      "cell_type": "markdown",
      "source": [
        "What is the output of this code in Python?\n",
        "\n",
        "  list = [ ' a ' ,  ' b ' ,  ' c ' ,  ' d ' ,  ' e ' ]\n",
        "\n",
        "  print (list [ 1 : ])\n"
      ],
      "metadata": {
        "id": "62MsNngKduK5"
      }
    },
    {
      "cell_type": "markdown",
      "source": [
        "(A) [ ]\n",
        "\n",
        "(B) [ 'b' ]\n",
        "\n",
        "(C) [ 'a' , 'b' ]\n",
        "\n",
        "(D) [ 'b' , 'c' , 'd' , 'e' ]\n",
        "\n",
        "**Answer: D**"
      ],
      "metadata": {
        "id": "q2WqeaL1eWfX"
      }
    },
    {
      "cell_type": "code",
      "source": [
        "list = [ ' a ' ,  ' b ' ,  ' c ' ,  ' d ' ,  ' e ' ]\n",
        "\n",
        "print (list [ 1 : ])"
      ],
      "metadata": {
        "colab": {
          "base_uri": "https://localhost:8080/"
        },
        "id": "MDzyTCiBeplm",
        "outputId": "3fc7deb6-0b7e-4f61-a927-4f417a53a24f"
      },
      "execution_count": null,
      "outputs": [
        {
          "output_type": "stream",
          "name": "stdout",
          "text": [
            "[' b ', ' c ', ' d ', ' e ']\n"
          ]
        }
      ]
    },
    {
      "cell_type": "markdown",
      "source": [
        "# **ANSWER**"
      ],
      "metadata": {
        "id": "Ub7pxgV6et32"
      }
    },
    {
      "cell_type": "markdown",
      "source": [
        "**D**"
      ],
      "metadata": {
        "id": "9TcdHY1hfFVY"
      }
    },
    {
      "cell_type": "markdown",
      "source": [
        "# **NO. 04**"
      ],
      "metadata": {
        "id": "FJXlJcxSfIkE"
      }
    },
    {
      "cell_type": "markdown",
      "source": [
        "What is the output of this code in Python?\n",
        "\n",
        "    L1 = [ ]\n",
        "\n",
        "    L1.append ( [1, [2, 3], 4] )\n",
        "\n",
        "    L1.extend ( [7, 8, 9] )\n",
        "\n",
        "    print(L1[0][1][1] + L1[2] )"
      ],
      "metadata": {
        "id": "Ak0e3yaafOIH"
      }
    },
    {
      "cell_type": "markdown",
      "source": [
        "(A) 3\n",
        "\n",
        "(B) 8\n",
        "\n",
        "(C) 11\n",
        "\n",
        "(D) 38\n",
        "\n",
        "(E) None of these\n",
        "\n",
        "**Answer: C**"
      ],
      "metadata": {
        "id": "l1RU3UC6fR9a"
      }
    },
    {
      "cell_type": "code",
      "source": [
        "L1 = [ ]\n",
        "L1.append ( [1, [2, 3], 4] )\n",
        "L1.extend ( [7, 8, 9] )\n",
        "print(L1[0][1][1] + L1[2] )"
      ],
      "metadata": {
        "colab": {
          "base_uri": "https://localhost:8080/"
        },
        "id": "0Is41vv7fmaj",
        "outputId": "3033d84f-8f06-4044-ed8f-2ed762c9faeb"
      },
      "execution_count": null,
      "outputs": [
        {
          "output_type": "stream",
          "name": "stdout",
          "text": [
            "11\n"
          ]
        }
      ]
    },
    {
      "cell_type": "markdown",
      "source": [
        "# **ANSWER**"
      ],
      "metadata": {
        "id": "RxFe3z85fqxb"
      }
    },
    {
      "cell_type": "markdown",
      "source": [
        "**C**"
      ],
      "metadata": {
        "id": "kolWszeZfuEs"
      }
    },
    {
      "cell_type": "markdown",
      "source": [
        "# **NO. 05**"
      ],
      "metadata": {
        "id": "ZY_3KAhjfysG"
      }
    },
    {
      "cell_type": "markdown",
      "source": [
        "What is the output of this code in python?\n",
        "\n",
        "    r = lambda q: q * 2\n",
        "\n",
        "    s = lambda q: q * 3\n",
        "\n",
        "    x = 2\n",
        "\n",
        "    x = r (x)\n",
        "\n",
        "    x = s (x)\n",
        "\n",
        "    x = r (x)\n",
        "\n",
        "    print (x)"
      ],
      "metadata": {
        "id": "6RRxR6yLf2xU"
      }
    },
    {
      "cell_type": "markdown",
      "source": [
        "(A) 2\n",
        "\n",
        "(B) 4\n",
        "\n",
        "(C) 6\n",
        "\n",
        "(D) 12\n",
        "\n",
        "(E) 24\n",
        " \n",
        " **Answer: E**"
      ],
      "metadata": {
        "id": "sJSLMGoqf8Xb"
      }
    },
    {
      "cell_type": "code",
      "source": [
        " r = lambda q: q * 2\n",
        "s = lambda q: q * 3\n",
        "x = 2\n",
        "x = r (x)\n",
        "x = s (x)\n",
        "x = r (x)\n",
        "print (x)"
      ],
      "metadata": {
        "colab": {
          "base_uri": "https://localhost:8080/"
        },
        "id": "yPhCHS9AgnSt",
        "outputId": "92223bc7-19c4-4ebf-cd09-cfc7805331a0"
      },
      "execution_count": null,
      "outputs": [
        {
          "output_type": "stream",
          "name": "stdout",
          "text": [
            "24\n"
          ]
        }
      ]
    },
    {
      "cell_type": "markdown",
      "source": [
        "# **ANSWER**"
      ],
      "metadata": {
        "id": "nw7rxMgoguXG"
      }
    },
    {
      "cell_type": "markdown",
      "source": [
        "**E**"
      ],
      "metadata": {
        "id": "qXTg4wyGgxhA"
      }
    },
    {
      "cell_type": "markdown",
      "source": [
        "# **NO. 06**"
      ],
      "metadata": {
        "id": "jXqZUccjg1ZD"
      }
    },
    {
      "cell_type": "markdown",
      "source": [
        "Which of the following conditions correctly describes the output of this code in Python?\n",
        "\n",
        "     first = [1 , 2 , 3 , 4 , 5]\n",
        "\n",
        "     second = first\n",
        "\n",
        "     second.append (6)\n",
        "\n",
        "     print (first)\n",
        "\n",
        "     print (second)\n"
      ],
      "metadata": {
        "id": "9uqWrkTLhjXy"
      }
    },
    {
      "cell_type": "markdown",
      "source": [
        "(A) first=[1, 2, 3, 4, 5], second=[1, 2, 3, 4, 5, 6]\n",
        "\n",
        "(B) first=[1, 2, 3, 4, 5, 6], second=[1, 2, 3, 4, 5]\n",
        "\n",
        "(C) first=[1, 2, 3, 4, 5], second=[1, 2, 3, 4, 5]\n",
        "\n",
        "(D) first=[1, 2, 3, 4, 5, 6], second=[1, 2, 3, 4, 5, 6]\n",
        "\n",
        "(E) None of these\n",
        "\n",
        "**Answer: D**"
      ],
      "metadata": {
        "id": "h2bLxqRbiBlK"
      }
    },
    {
      "cell_type": "markdown",
      "source": [
        "# **READING COMPREHENSION: WHAT IS THE OUTPUT OF THIS CODE IN PYTHON?**"
      ],
      "metadata": {
        "id": "Yo643fk_yuH4"
      }
    },
    {
      "cell_type": "markdown",
      "source": [
        "**B1. WHAT IS THE OUTPUT OF THIS CODE IN PYTHON? EXPLAIN IT.**"
      ],
      "metadata": {
        "id": "8VUK03655iRV"
      }
    },
    {
      "cell_type": "markdown",
      "source": [
        "**# This is formatted as code**\n",
        "\n",
        "**# primes.py**\n",
        "\n",
        "primes = []  # this will contain the primes at the end\n",
        "upto = 100  # the limit, inclusive\n",
        "for n in range(2, upto + 1):\n",
        "    is_prime = True  # flag, new at each iteration of outer for\n",
        "    for divisor in range(2, n):\n",
        "        if n % divisor == 0:\n",
        "            is_prime = False\n",
        "            break\n",
        "    if is_prime:  # check on flag\n",
        "        primes.append(n)\n",
        "print(primes)"
      ],
      "metadata": {
        "id": "aJyK_InM5qkM"
      }
    },
    {
      "cell_type": "markdown",
      "source": [
        "# **ANSWER**"
      ],
      "metadata": {
        "id": "9xbTCR8d6e1F"
      }
    },
    {
      "cell_type": "code",
      "source": [
        "# primes.py\n",
        "primes = []  # this will contain the primes at the end\n",
        "upto = 100  # the limit, inclusive\n",
        "for n in range(2, upto + 1): \n",
        "    is_prime = True  # flag, new at each iteration of outer for\n",
        "    for divisor in range(2, n):\n",
        "        if n % divisor == 0:\n",
        "            is_prime = False\n",
        "            break\n",
        "    if is_prime:  # check on flag\n",
        "        primes.append(n) \n",
        "print(primes)"
      ],
      "metadata": {
        "colab": {
          "base_uri": "https://localhost:8080/"
        },
        "id": "32S5pCgx6kSF",
        "outputId": "3684cd27-af6b-48a2-8a15-0ad6a4f7f1f7"
      },
      "execution_count": 1,
      "outputs": [
        {
          "output_type": "stream",
          "name": "stdout",
          "text": [
            "[2, 3, 5, 7, 11, 13, 17, 19, 23, 29, 31, 37, 41, 43, 47, 53, 59, 61, 67, 71, 73, 79, 83, 89, 97]\n"
          ]
        }
      ]
    },
    {
      "cell_type": "markdown",
      "source": [
        "# **EXPLANATION**"
      ],
      "metadata": {
        "id": "2SsbOe-86ud-"
      }
    },
    {
      "cell_type": "markdown",
      "source": [
        "**# primes.py**\n",
        "\n",
        "    primes = []  # primes will contaian in the end\n",
        "    upto = 100  # the inclusive limit \n",
        "    for n in range(2, upto + 1): # repeat an action a specific number of times  upto + 1 \n",
        "        is_prime = True  # if factor is found, set flag to True\n",
        "        for divisor in range(2, n): # repeat an action a specific number of times\n",
        "            if n % divisor == 0: #  zero values are false\n",
        "                is_prime = False  # if factor is found, set flag to False\n",
        "                break # break out of loop\n",
        "        if is_prime:  # check on flag\n",
        "            primes.append(n) # is_prime is true then it will append in the list\n",
        "    print(primes) # print prime numbers"
      ],
      "metadata": {
        "id": "WbIrEXxs7Q88"
      }
    },
    {
      "cell_type": "markdown",
      "source": [
        "\n",
        "**B2. WHAT IS THE OUTPUT OF THIS CODE IN PYTHON? EXPLAIN IT.**"
      ],
      "metadata": {
        "id": "3_csdLVk-Rfg"
      }
    },
    {
      "cell_type": "markdown",
      "source": [
        "**# This is formatted as code**\n",
        "**# primes.else.py**\n",
        "\n",
        "primes = []\n",
        "upto = 100\n",
        "for n in range(2, upto + 1):\n",
        "    for divisor in range(2, n):\n",
        "        if n % divisor == 0:\n",
        "            break\n",
        "    else:\n",
        "        primes.append(n)\n",
        "print(primes)"
      ],
      "metadata": {
        "id": "-VGpUhGS-q13"
      }
    },
    {
      "cell_type": "markdown",
      "source": [
        "# **ANSWER**"
      ],
      "metadata": {
        "id": "tgRgZ_sBNpQJ"
      }
    },
    {
      "cell_type": "code",
      "source": [
        "# primes.else.py\n",
        "primes = []\n",
        "upto = 100\n",
        "for n in range(2, upto + 1):\n",
        "    for divisor in range(2, n):\n",
        "        if n % divisor == 0:\n",
        "            break\n",
        "    else:\n",
        "        primes.append(n)\n",
        "print(primes)"
      ],
      "metadata": {
        "colab": {
          "base_uri": "https://localhost:8080/"
        },
        "id": "X9-t1JnGNyta",
        "outputId": "1837338e-675e-4714-dca1-dc57ef925561"
      },
      "execution_count": 4,
      "outputs": [
        {
          "output_type": "stream",
          "name": "stdout",
          "text": [
            "[2, 3, 5, 7, 11, 13, 17, 19, 23, 29, 31, 37, 41, 43, 47, 53, 59, 61, 67, 71, 73, 79, 83, 89, 97]\n"
          ]
        }
      ]
    },
    {
      "cell_type": "markdown",
      "source": [
        "# **EXPLANATION**"
      ],
      "metadata": {
        "id": "4QeUnt_pON71"
      }
    },
    {
      "cell_type": "markdown",
      "source": [
        "# **primes.else.py**\n",
        "primes = [] # primes will contaian in the end\n",
        "upto = 100 # the inclusive limit\n",
        "for n in range(2, upto + 1): # repeat an action  a specific number of times  upto + 1 \n",
        "    for divisor in range(2, n): # repeat an action a specific number of times\n",
        "        if n % divisor == 0: #  zero values are false\n",
        "            break# break out of loop\n",
        "    else: # flag is true \n",
        "        primes.append(n)  # is_prime is true then it will append in the list\n",
        "print(primes) # print prime numbers"
      ],
      "metadata": {
        "id": "_dsGe6ijOTf-"
      }
    },
    {
      "cell_type": "markdown",
      "source": [
        "**B3. WHAT IS THE OUTPUT OF THIS CODE IN PYTHON? EXPLAIN IT.**"
      ],
      "metadata": {
        "id": "CSgEty1ROj0g"
      }
    },
    {
      "cell_type": "markdown",
      "source": [
        "**This is formatted as**\n",
        "\n",
        "cubes = [x**3 for x in range(1,6)]\n",
        "print(cubes"
      ],
      "metadata": {
        "id": "Ed9ILxyUOyn0"
      }
    },
    {
      "cell_type": "markdown",
      "source": [
        "# **ANSWER**"
      ],
      "metadata": {
        "id": "5kbQbftKO6I2"
      }
    },
    {
      "cell_type": "code",
      "source": [
        "cubes = [x**3 for x in range(1,6)]\n",
        "print(cubes)"
      ],
      "metadata": {
        "colab": {
          "base_uri": "https://localhost:8080/"
        },
        "id": "ODY-0ufPO87U",
        "outputId": "8b9cff98-b446-4e29-d4c3-431dfd502adf"
      },
      "execution_count": 5,
      "outputs": [
        {
          "output_type": "stream",
          "name": "stdout",
          "text": [
            "[1, 8, 27, 64, 125]\n"
          ]
        }
      ]
    },
    {
      "cell_type": "markdown",
      "source": [
        "# **EXPLANATION**"
      ],
      "metadata": {
        "id": "hAezILnjPhvV"
      }
    },
    {
      "cell_type": "markdown",
      "source": [
        "range(1,6) == > 1,2,3,4,5\n",
        "\n",
        "[x**3 for x in range(1,6)] ==> [13 , 23 , ...., 5**3]\n",
        "\n",
        "2**3 = 8"
      ],
      "metadata": {
        "id": "JiNS8qXfPned"
      }
    },
    {
      "cell_type": "markdown",
      "source": [
        "# **PROGRAMMING PYTHON**"
      ],
      "metadata": {
        "id": "8c35tGRvPo9p"
      }
    },
    {
      "cell_type": "markdown",
      "source": [
        "The Fibonacci numbers may be defined by the recurrence relation\n",
        "\n",
        "F_{0}=0, F_{1}=1\n",
        "\n",
        "and\n",
        "\n",
        "F_{n} = F_{n-1} + F_{n-2} for n > 1.\n",
        "\n",
        "0,1,1,2,3,5,8,......\n",
        "\n",
        "Under some older definitions, the value F_{0}=0 is omitted,\n",
        "\n",
        "so that the sequence starts with F_{1}=F_{2}=1 and\n",
        "\n",
        "the recurrence F_{n}=F_{n-1}+F_{n-2} is valid for n > 2\n",
        "\n",
        "(1)Write a Python function/Program to Find Fibonacci Numbers using Recursion\n",
        "\n",
        "(2)use iterative Approach To Find the nth Term Of Fibonacci Sequence(You need to write a function using loop)"
      ],
      "metadata": {
        "id": "_h8MPl0ZQDT9"
      }
    },
    {
      "cell_type": "code",
      "source": [
        "def recur_fibo(n):\n",
        "   if n <= 1:\n",
        "       return n\n",
        "   else:\n",
        "       return(recur_fibo(n-1) + recur_fibo(n-2))\n",
        "\n",
        "nterms = 18\n",
        "\n",
        "# check if the number of terms is valid\n",
        "if nterms <= 0:\n",
        "   print(\"Plese enter a positive integer\")\n",
        "else:\n",
        "   print(\"Fibonacci sequence:\")\n",
        "   for i in range(nterms):\n",
        "       print(recur_fibo(i))"
      ],
      "metadata": {
        "colab": {
          "base_uri": "https://localhost:8080/"
        },
        "id": "yt27WHjLQe_n",
        "outputId": "fce83c19-963a-4a99-ba35-93f5f2ce32c7"
      },
      "execution_count": 7,
      "outputs": [
        {
          "output_type": "stream",
          "name": "stdout",
          "text": [
            "Fibonacci sequence:\n",
            "0\n",
            "1\n",
            "1\n",
            "2\n",
            "3\n",
            "5\n",
            "8\n",
            "13\n",
            "21\n",
            "34\n",
            "55\n",
            "89\n",
            "144\n",
            "233\n",
            "377\n",
            "610\n",
            "987\n",
            "1597\n"
          ]
        }
      ]
    },
    {
      "cell_type": "markdown",
      "source": [
        "# **NO. 01**"
      ],
      "metadata": {
        "id": "U9D7Lg-oQlNX"
      }
    },
    {
      "cell_type": "code",
      "source": [
        "def recur_fibo(n):  \n",
        "   if n <= 1:  \n",
        "       return n  \n",
        "   else:  \n",
        "       return(recur_fibo(n-1) + recur_fibo(n-2))  \n",
        " \n",
        "nterms = 24\n",
        " \n",
        "if nterms <= 0: \n",
        "   print(\"Plese enter a positive integer\")  \n",
        "else:  \n",
        "   print(\"Fibonacci sequence:\")  \n",
        "   for i in range(nterms):  \n",
        "       print(recur_fibo(i))"
      ],
      "metadata": {
        "colab": {
          "base_uri": "https://localhost:8080/"
        },
        "id": "6WtA298UQ1aE",
        "outputId": "60a88eaf-f465-44df-a54f-1bed35f283ba"
      },
      "execution_count": 8,
      "outputs": [
        {
          "output_type": "stream",
          "name": "stdout",
          "text": [
            "Fibonacci sequence:\n",
            "0\n",
            "1\n",
            "1\n",
            "2\n",
            "3\n",
            "5\n",
            "8\n",
            "13\n",
            "21\n",
            "34\n",
            "55\n",
            "89\n",
            "144\n",
            "233\n",
            "377\n",
            "610\n",
            "987\n",
            "1597\n",
            "2584\n",
            "4181\n",
            "6765\n",
            "10946\n",
            "17711\n",
            "28657\n"
          ]
        }
      ]
    },
    {
      "cell_type": "markdown",
      "source": [
        "# **NO. 02**"
      ],
      "metadata": {
        "id": "bTAt55pfQ278"
      }
    },
    {
      "cell_type": "code",
      "source": [
        "def fibonacci(n):\n",
        "    a,b = 0,1\n",
        "    for i in range(n):\n",
        "        a,b = b,a+b\n",
        "    return a\n",
        "\n",
        "print(fibonacci(8))"
      ],
      "metadata": {
        "colab": {
          "base_uri": "https://localhost:8080/"
        },
        "id": "42LnDWy7Q6FW",
        "outputId": "dd417df5-76f3-4307-9c2f-523a44228bb1"
      },
      "execution_count": 9,
      "outputs": [
        {
          "output_type": "stream",
          "name": "stdout",
          "text": [
            "21\n"
          ]
        }
      ]
    }
  ],
  "metadata": {
    "colab": {
      "collapsed_sections": [],
      "provenance": []
    },
    "kernelspec": {
      "display_name": "Python 3",
      "name": "python3"
    },
    "language_info": {
      "name": "python"
    }
  },
  "nbformat": 4,
  "nbformat_minor": 0
}