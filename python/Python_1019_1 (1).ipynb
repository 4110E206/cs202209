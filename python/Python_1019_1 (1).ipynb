{
  "nbformat": 4,
  "nbformat_minor": 0,
  "metadata": {
    "colab": {
      "provenance": [],
      "collapsed_sections": []
    },
    "kernelspec": {
      "name": "python3",
      "display_name": "Python 3"
    },
    "language_info": {
      "name": "python"
    }
  },
  "cells": [
    {
      "cell_type": "markdown",
      "source": [
        "1019 4110E206 Mary Cris Bonode"
      ],
      "metadata": {
        "id": "K6Wc8g_8JxST"
      }
    },
    {
      "cell_type": "markdown",
      "source": [
        "Python Conditions and If statements\n",
        "\n",
        "Exercise 01: Print \"Hello Paris\" if a is greater than b."
      ],
      "metadata": {
        "id": "6mGJQXxRJ2qK"
      }
    },
    {
      "cell_type": "code",
      "source": [
        "a = 22\n",
        "b = 18\n",
        "if  a > b:\n",
        "  print(\"Hello Paris\")"
      ],
      "metadata": {
        "colab": {
          "base_uri": "https://localhost:8080/"
        },
        "id": "oecLqOTmJ5ku",
        "outputId": "dd0bcd0b-f723-4e44-d734-d6362bb45fea"
      },
      "execution_count": 1,
      "outputs": [
        {
          "output_type": "stream",
          "name": "stdout",
          "text": [
            "Hello Paris\n"
          ]
        }
      ]
    },
    {
      "cell_type": "markdown",
      "source": [
        "Exercise 02: Print \"Hello Paris\" if a is not equal to b."
      ],
      "metadata": {
        "id": "XQbL400jKhxx"
      }
    },
    {
      "cell_type": "code",
      "source": [
        "a = 22\n",
        "b = 18\n",
        "if  a != b:\n",
        "  print(\"Hello Paris\")"
      ],
      "metadata": {
        "id": "sJkSX3LvKs5y"
      },
      "execution_count": null,
      "outputs": []
    },
    {
      "cell_type": "markdown",
      "source": [
        "Exercise 03: Print \"Yes\" if a is equal to b, otherwise print \"No\"."
      ],
      "metadata": {
        "id": "dL_b6_qkPvKG"
      }
    },
    {
      "cell_type": "code",
      "source": [
        "a = 22\n",
        "b = 18\n",
        "if a == b:\n",
        "  print(\"Yes\")\n",
        "else:\n",
        "  print(\"No\")"
      ],
      "metadata": {
        "id": "OjPSgtNYPwJw",
        "outputId": "665333a6-4824-45ba-9303-bdb8a2b9f4fa",
        "colab": {
          "base_uri": "https://localhost:8080/"
        }
      },
      "execution_count": 2,
      "outputs": [
        {
          "output_type": "stream",
          "name": "stdout",
          "text": [
            "No\n"
          ]
        }
      ]
    },
    {
      "cell_type": "markdown",
      "source": [
        "Exercise 04: Print \"1\" if a is equal to b, print \"2\" if a is greater than b, otherwise print \"3\"."
      ],
      "metadata": {
        "id": "RwQ79SllP55_"
      }
    },
    {
      "cell_type": "code",
      "source": [
        "a = 50\n",
        "b = 10\n",
        "if a == b:\n",
        " print(\"1\")\n",
        "elif a > b:\n",
        " print(\"2\")\n",
        "else:\n",
        " print(\"3\")"
      ],
      "metadata": {
        "id": "L4oeXiS8P665",
        "outputId": "daab57e2-0c76-4be7-dcb2-e7f59a546953",
        "colab": {
          "base_uri": "https://localhost:8080/"
        }
      },
      "execution_count": 3,
      "outputs": [
        {
          "output_type": "stream",
          "name": "stdout",
          "text": [
            "2\n"
          ]
        }
      ]
    },
    {
      "cell_type": "markdown",
      "source": [
        "Exercise 05: Print \"Hello\" if a is equal to b, and c is equal to d."
      ],
      "metadata": {
        "id": "_avSImDWQJxY"
      }
    },
    {
      "cell_type": "code",
      "source": [
        "if a == b and c == d:\n",
        "  print(\"Hello\")"
      ],
      "metadata": {
        "id": "FSlqYIMxQLJj"
      },
      "execution_count": 4,
      "outputs": []
    },
    {
      "cell_type": "markdown",
      "source": [
        "Exercise 06: Print \"Hello\" if a is equal to b, or if c is equal to d."
      ],
      "metadata": {
        "id": "WXwM0wwLQTYX"
      }
    },
    {
      "cell_type": "code",
      "source": [
        " a = 10\n",
        " b = 20\n",
        " c = 30\n",
        " d = 40\n",
        " if a == b or c == d:\n",
        "  print(\"Hello\")"
      ],
      "metadata": {
        "id": "LCK-jPQmQYrz"
      },
      "execution_count": 5,
      "outputs": []
    },
    {
      "cell_type": "markdown",
      "source": [
        "Exercise 07: This example misses indentations to be correct. Insert the missing indentation to make the code correct:"
      ],
      "metadata": {
        "id": "zRMwNO2DRiXi"
      }
    },
    {
      "cell_type": "code",
      "source": [
        "if 5 > 2:\n",
        "  print(\"Five is greater than two!\")"
      ],
      "metadata": {
        "id": "CJBVCu8ZRpM6",
        "outputId": "7add49a4-3ff3-446d-da10-0179bf7f4900",
        "colab": {
          "base_uri": "https://localhost:8080/"
        }
      },
      "execution_count": 6,
      "outputs": [
        {
          "output_type": "stream",
          "name": "stdout",
          "text": [
            "Five is greater than two!\n"
          ]
        }
      ]
    },
    {
      "cell_type": "markdown",
      "source": [
        "Exercise 08:Use the correct short hand syntax to put the following statement on one line:"
      ],
      "metadata": {
        "id": "odPOiTO8R0jp"
      }
    },
    {
      "cell_type": "code",
      "source": [
        "if 5 > 2: print(\"Five is greater than two!\")\n"
      ],
      "metadata": {
        "id": "D0tIwJ9vR7y8",
        "outputId": "98a06fde-5cb4-4567-8eed-cd5274e68c85",
        "colab": {
          "base_uri": "https://localhost:8080/"
        }
      },
      "execution_count": 7,
      "outputs": [
        {
          "output_type": "stream",
          "name": "stdout",
          "text": [
            "Five is greater than two!\n"
          ]
        }
      ]
    },
    {
      "cell_type": "markdown",
      "source": [
        "Exercise 09: Use the correct short hand syntax to write the following conditional expression in one line:"
      ],
      "metadata": {
        "id": "PYrwGjAOSAhj"
      }
    },
    {
      "cell_type": "code",
      "source": [
        "print(\"Yes\") if 5 > 2 else print(\"No\")"
      ],
      "metadata": {
        "id": "AMMjJcfSSDfz",
        "outputId": "70c10796-4a83-49b5-e214-6df0b2354c33",
        "colab": {
          "base_uri": "https://localhost:8080/"
        }
      },
      "execution_count": 9,
      "outputs": [
        {
          "output_type": "stream",
          "name": "stdout",
          "text": [
            "Yes\n"
          ]
        }
      ]
    }
  ]
}