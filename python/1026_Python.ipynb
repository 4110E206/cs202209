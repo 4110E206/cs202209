{
  "cells": [
    {
      "cell_type": "code",
      "execution_count": 2,
      "metadata": {
        "colab": {
          "base_uri": "https://localhost:8080/"
        },
        "id": "pip0-na96pzw",
        "outputId": "248e8d7c-8401-40f5-e670-43d5008d006e"
      },
      "outputs": [
        {
          "output_type": "stream",
          "name": "stdout",
          "text": [
            "Sum from 3 to 22 is 228\n",
            "Sum from 18 to 40 is 627\n",
            "Sum from 23 to 31 is 212\n"
          ]
        }
      ],
      "source": [
        "def sum(i1, i2):\n",
        "    result = 0\n",
        "    for i in range(i1,i2):\n",
        "      result += i\n",
        "    return result\n",
        "\n",
        "def main():\n",
        "    print(\"Sum from 3 to 22 is\", sum(3, 22)) \n",
        "    print(\"Sum from 18 to 40 is\", sum(18, 40))\n",
        "    print(\"Sum from 23 to 31 is\", sum(23, 31))\n",
        "\n",
        "main() # Call the main function"
      ]
    }
  ],
  "metadata": {
    "colab": {
      "provenance": []
    },
    "kernelspec": {
      "display_name": "Python 3",
      "name": "python3"
    },
    "language_info": {
      "name": "python"
    }
  },
  "nbformat": 4,
  "nbformat_minor": 0
}