{
  "nbformat": 4,
  "nbformat_minor": 0,
  "metadata": {
    "colab": {
      "provenance": [],
      "collapsed_sections": []
    },
    "kernelspec": {
      "name": "python3",
      "display_name": "Python 3"
    },
    "language_info": {
      "name": "python"
    }
  },
  "cells": [
    {
      "cell_type": "markdown",
      "source": [
        "#1019 4110E206 Mary Cris Bonode"
      ],
      "metadata": {
        "id": "jRDa3ZIwzKIO"
      }
    },
    {
      "cell_type": "markdown",
      "source": [
        "Python Conditions and If statements\n"
      ],
      "metadata": {
        "id": "vUN8Yy58zOrb"
      }
    },
    {
      "cell_type": "markdown",
      "source": [
        "Exercise 01: Print \"Hello Paris\" if a is greater than b."
      ],
      "metadata": {
        "id": "0-Vbg1v0zTzW"
      }
    },
    {
      "cell_type": "code",
      "execution_count": 9,
      "metadata": {
        "colab": {
          "base_uri": "https://localhost:8080/"
        },
        "id": "dm4g8lV_rCc7",
        "outputId": "c6a5f21d-9486-4271-e5fc-97c1e9083287"
      },
      "outputs": [
        {
          "output_type": "stream",
          "name": "stdout",
          "text": [
            "Hello Paris\n"
          ]
        }
      ],
      "source": [
        "a = 22\n",
        "b = 18\n",
        "if  a > b:\n",
        "  print(\"Hello Paris\")"
      ]
    },
    {
      "cell_type": "markdown",
      "source": [
        " Exercise 02: Print \"Hello World\" if a is not equal to b."
      ],
      "metadata": {
        "id": "SlEbc5Xazawf"
      }
    },
    {
      "cell_type": "code",
      "source": [
        "a = 22\n",
        "b = 18\n",
        "if  a != b:\n",
        "  print(\"Hello Paris\")"
      ],
      "metadata": {
        "colab": {
          "base_uri": "https://localhost:8080/"
        },
        "id": "RQIM7S31JdmD",
        "outputId": "edc3898e-abea-4899-ccb8-b0dee2e2b007"
      },
      "execution_count": 1,
      "outputs": [
        {
          "output_type": "stream",
          "name": "stdout",
          "text": [
            "Hello Paris\n"
          ]
        }
      ]
    },
    {
      "cell_type": "markdown",
      "source": [
        "Exercise 03: Print \"Yes\" if a is equal to b, otherwise print \"No\"."
      ],
      "metadata": {
        "id": "SwVzXqZCKSDj"
      }
    },
    {
      "cell_type": "code",
      "source": [
        "a = 22\n",
        "b = 18\n",
        "if a == b:\n",
        "  print(\"Yes\")\n",
        "else:\n",
        "  print(\"No\")"
      ],
      "metadata": {
        "colab": {
          "base_uri": "https://localhost:8080/"
        },
        "id": "73-_uIlGKZTI",
        "outputId": "fbb94a48-f776-45e1-f032-aaff3b550036"
      },
      "execution_count": 2,
      "outputs": [
        {
          "output_type": "stream",
          "name": "stdout",
          "text": [
            "No\n"
          ]
        }
      ]
    },
    {
      "cell_type": "markdown",
      "source": [
        "Exercise 04: Print \"1\" if a is equal to b, print \"2\" if a is greater than b, otherwise print \"3\"."
      ],
      "metadata": {
        "id": "z_mnmO7oKieq"
      }
    },
    {
      "cell_type": "code",
      "source": [
        "a = 50\n",
        "b = 10\n",
        "if a == b:\n",
        " print(\"1\")\n",
        "elif a > b:\n",
        " print(\"2\")\n",
        "else:\n",
        " print(\"3\")"
      ],
      "metadata": {
        "colab": {
          "base_uri": "https://localhost:8080/"
        },
        "id": "sy2y5k-RKqlJ",
        "outputId": "846727e0-032c-4d86-f693-6b159812ee31"
      },
      "execution_count": 4,
      "outputs": [
        {
          "output_type": "stream",
          "name": "stdout",
          "text": [
            "2\n"
          ]
        }
      ]
    },
    {
      "cell_type": "markdown",
      "source": [
        "Exercise 05: Print \"Hello\" if a is equal to b, and c is equal to d."
      ],
      "metadata": {
        "id": "knC1onTcLQFx"
      }
    },
    {
      "cell_type": "code",
      "source": [
        "if a == b and c == d:\n",
        "  print(\"Hello\")"
      ],
      "metadata": {
        "id": "4-lIj1-tLVU2"
      },
      "execution_count": 6,
      "outputs": []
    },
    {
      "cell_type": "markdown",
      "source": [
        "Exercise 06: Print \"Hello\" if a is equal to b, or if c is equal to d.\n"
      ],
      "metadata": {
        "id": "wzpoALjtM2BL"
      }
    },
    {
      "cell_type": "code",
      "source": [
        "if a == b or c == d:\n",
        "  print(\"Hello\")"
      ],
      "metadata": {
        "colab": {
          "base_uri": "https://localhost:8080/",
          "height": 183
        },
        "id": "IlJ8A-nfM9fZ",
        "outputId": "9cfab711-7030-4b56-fc11-222eef921cec"
      },
      "execution_count": 7,
      "outputs": [
        {
          "output_type": "error",
          "ename": "NameError",
          "evalue": "ignored",
          "traceback": [
            "\u001b[0;31m---------------------------------------------------------------------------\u001b[0m",
            "\u001b[0;31mNameError\u001b[0m                                 Traceback (most recent call last)",
            "\u001b[0;32m<ipython-input-7-0b67f8cc97a5>\u001b[0m in \u001b[0;36m<module>\u001b[0;34m\u001b[0m\n\u001b[0;32m----> 1\u001b[0;31m \u001b[0;32mif\u001b[0m \u001b[0ma\u001b[0m \u001b[0;34m==\u001b[0m \u001b[0mb\u001b[0m \u001b[0;32mor\u001b[0m \u001b[0mc\u001b[0m \u001b[0;34m==\u001b[0m \u001b[0md\u001b[0m\u001b[0;34m:\u001b[0m\u001b[0;34m\u001b[0m\u001b[0;34m\u001b[0m\u001b[0m\n\u001b[0m\u001b[1;32m      2\u001b[0m   \u001b[0mprint\u001b[0m\u001b[0;34m(\u001b[0m\u001b[0;34m\"Hello\"\u001b[0m\u001b[0;34m)\u001b[0m\u001b[0;34m\u001b[0m\u001b[0;34m\u001b[0m\u001b[0m\n",
            "\u001b[0;31mNameError\u001b[0m: name 'c' is not defined"
          ]
        }
      ]
    },
    {
      "cell_type": "markdown",
      "source": [
        "Exercise 07: This example misses indentations to be correct. Insert the missing indentation to make the code correct:"
      ],
      "metadata": {
        "id": "z4lDVRE2NIW0"
      }
    },
    {
      "cell_type": "code",
      "source": [
        "if 5 > 2:\n",
        "  print(\"Five is greater than two!\")"
      ],
      "metadata": {
        "colab": {
          "base_uri": "https://localhost:8080/"
        },
        "id": "kIBDR64QNRFa",
        "outputId": "21a9c12b-757a-4faa-f8a1-3508bd7883ca"
      },
      "execution_count": 9,
      "outputs": [
        {
          "output_type": "stream",
          "name": "stdout",
          "text": [
            "Five is greater than two!\n"
          ]
        }
      ]
    },
    {
      "cell_type": "markdown",
      "source": [
        "Exercise 08:Use the correct short hand syntax to put the following statement on one line:"
      ],
      "metadata": {
        "id": "uuM3rI5IN-Ls"
      }
    },
    {
      "cell_type": "code",
      "source": [
        "if 5 > 2: print(\"Five is greater than two!\")"
      ],
      "metadata": {
        "colab": {
          "base_uri": "https://localhost:8080/"
        },
        "id": "nYrTbStiODD4",
        "outputId": "159299d1-847e-41d7-a1dc-485ef4dcc93c"
      },
      "execution_count": 10,
      "outputs": [
        {
          "output_type": "stream",
          "name": "stdout",
          "text": [
            "Five is greater than two!\n"
          ]
        }
      ]
    },
    {
      "cell_type": "markdown",
      "source": [
        "Exercise 09: Use the correct short hand syntax to write the following conditional expression in one line:"
      ],
      "metadata": {
        "id": "0l5c_FkkOLqS"
      }
    },
    {
      "cell_type": "code",
      "source": [
        "print(\"Yes\") if 5 > 2 else print(\"No\")"
      ],
      "metadata": {
        "colab": {
          "base_uri": "https://localhost:8080/"
        },
        "id": "2P3t-xitOOGU",
        "outputId": "aefc8f9b-fac3-4628-a4a0-792242b1073c"
      },
      "execution_count": 11,
      "outputs": [
        {
          "output_type": "stream",
          "name": "stdout",
          "text": [
            "Yes\n"
          ]
        }
      ]
    }
  ]
}