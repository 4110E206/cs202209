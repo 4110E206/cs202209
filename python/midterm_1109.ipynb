{
  "nbformat": 4,
  "nbformat_minor": 0,
  "metadata": {
    "colab": {
      "provenance": []
    },
    "kernelspec": {
      "name": "python3",
      "display_name": "Python 3"
    },
    "language_info": {
      "name": "python"
    }
  },
  "cells": [
    {
      "cell_type": "markdown",
      "source": [
        "## **Mary_Cris_Bonode**"
      ],
      "metadata": {
        "id": "hl3NrZvAoiAw"
      }
    },
    {
      "cell_type": "markdown",
      "source": [
        "# **EXAM 01**"
      ],
      "metadata": {
        "id": "n41iqfTVls5E"
      }
    },
    {
      "cell_type": "markdown",
      "source": [
        "f(n) = 1+2+3+....+(n-1)+n = f(n-1) + n\n",
        "\n",
        "termination: f(1) = 1 recurrence function : f(n) = f(n-1) + n\n",
        "\n",
        "1.**Recursive function** for F(n)\n",
        "\n",
        "def f(n):"
      ],
      "metadata": {
        "id": "DA6GoJC_nkut"
      }
    },
    {
      "cell_type": "code",
      "source": [
        "def f(n):\n",
        "  if n == 1:\n",
        "    return 1\n",
        "  else:\n",
        "    return n + f(n-1)\n",
        "\n",
        "f(10)"
      ],
      "metadata": {
        "colab": {
          "base_uri": "https://localhost:8080/"
        },
        "id": "4MAqqMXAnnPq",
        "outputId": "a1ad62b3-1b86-4ff9-d3f0-ec4563191ec6"
      },
      "execution_count": 1,
      "outputs": [
        {
          "output_type": "execute_result",
          "data": {
            "text/plain": [
              "55"
            ]
          },
          "metadata": {},
          "execution_count": 1
        }
      ]
    },
    {
      "cell_type": "markdown",
      "source": [
        "# **EXAM 01**"
      ],
      "metadata": {
        "id": "wvuDRAd6pHKL"
      }
    },
    {
      "cell_type": "markdown",
      "source": [
        "f(n) = 1+2+3+....+(n-1)+n = f(n-1) + n\n",
        "\n",
        "termination: f(1) = 1 recurrence function : f(n) = f(n-1) + n\n",
        "\n",
        "2.**Iterrative function** for f(n)"
      ],
      "metadata": {
        "id": "8POBK6x9pjJo"
      }
    },
    {
      "cell_type": "code",
      "source": [
        "n = 10\n",
        "f = 0\n",
        "for i in range(0, n + 1 ):\n",
        "  f += i\n",
        "  print(f)"
      ],
      "metadata": {
        "colab": {
          "base_uri": "https://localhost:8080/"
        },
        "id": "38WqhBfkpki4",
        "outputId": "4ce9fff5-f428-4758-de3d-05283fb02236"
      },
      "execution_count": 2,
      "outputs": [
        {
          "output_type": "stream",
          "name": "stdout",
          "text": [
            "0\n",
            "1\n",
            "3\n",
            "6\n",
            "10\n",
            "15\n",
            "21\n",
            "28\n",
            "36\n",
            "45\n",
            "55\n"
          ]
        }
      ]
    },
    {
      "cell_type": "markdown",
      "source": [
        "# **EXAM 02**"
      ],
      "metadata": {
        "id": "jVSeV8fqppCK"
      }
    },
    {
      "cell_type": "markdown",
      "source": [
        "f(n) = n! = 123.....n\n",
        "\n",
        " 1.**write a recursive function** for f(n"
      ],
      "metadata": {
        "id": "2PNcfOkZpjGu"
      }
    },
    {
      "cell_type": "code",
      "source": [
        "def f(n):\n",
        "  if n == 1:\n",
        "    return 1\n",
        "  else:\n",
        "    return n * f(n - 1)\n",
        "\n",
        "f(10)"
      ],
      "metadata": {
        "colab": {
          "base_uri": "https://localhost:8080/"
        },
        "id": "POa0E-7mrhlA",
        "outputId": "cd45a51d-76f2-4ce5-c599-122edfaa414c"
      },
      "execution_count": 3,
      "outputs": [
        {
          "output_type": "execute_result",
          "data": {
            "text/plain": [
              "3628800"
            ]
          },
          "metadata": {},
          "execution_count": 3
        }
      ]
    },
    {
      "cell_type": "markdown",
      "source": [
        "# **EXAM 02**"
      ],
      "metadata": {
        "id": "_DSBaSkmrn01"
      }
    },
    {
      "cell_type": "markdown",
      "source": [
        "f(n) = n! = 123.....n\n",
        "\n",
        "2.**write a iterative function** for f(n)"
      ],
      "metadata": {
        "id": "EtjFO3zxrtQt"
      }
    },
    {
      "cell_type": "code",
      "source": [
        "n = 10\n",
        "multi = 1\n",
        "for x in range(1, n+1):\n",
        "  multi *= x\n",
        "  print (multi)"
      ],
      "metadata": {
        "colab": {
          "base_uri": "https://localhost:8080/"
        },
        "id": "94jFphosr1Lt",
        "outputId": "d4d6c55e-89dd-4840-de6f-60d919bba066"
      },
      "execution_count": 4,
      "outputs": [
        {
          "output_type": "stream",
          "name": "stdout",
          "text": [
            "1\n",
            "2\n",
            "6\n",
            "24\n",
            "120\n",
            "720\n",
            "5040\n",
            "40320\n",
            "362880\n",
            "3628800\n"
          ]
        }
      ]
    },
    {
      "cell_type": "markdown",
      "source": [
        "# **EXAM 03**"
      ],
      "metadata": {
        "id": "iRKCTJTxvEuJ"
      }
    },
    {
      "cell_type": "markdown",
      "source": [
        "GCD:Greatest common divisor - Wikipedia gcd(8,12)=4 https://en.wikipedia.org/wiki/Greatest_common_divisor\n",
        "\n",
        "Euclidean algorithm\n",
        "\n",
        "gcd(48,18)\n",
        "\n",
        "= gcd(18,48%18)\n",
        "\n",
        "= gcd(18,12)\n",
        "\n",
        "= gcd(12,18%12)\n",
        "\n",
        "= gcd(12,6)\n",
        "\n",
        "= gcd(6,12%6)\n",
        "\n",
        "= gcd(6,0)\n",
        "\n",
        "= 6"
      ],
      "metadata": {
        "id": "4Wcc2RR-vV_K"
      }
    },
    {
      "cell_type": "markdown",
      "source": [
        "output: gcd(n,m)\n",
        "\n",
        "print(gcd(48,18))\n",
        "\n",
        "gcd(18,48) ==> gcd(48,18)\n",
        "\n",
        "gcd(x,0) ==> return x\n",
        "\n",
        "recurrence relation :\n",
        "\n",
        "1.**write a recursive function** for gcd(n,m)\n"
      ],
      "metadata": {
        "id": "kVgONnx9vZWd"
      }
    },
    {
      "cell_type": "code",
      "source": [
        "def gcd (n,m):\n",
        "  if m == 0:\n",
        "    return n\n",
        "  else:\n",
        "    return gcd(m, n%m)\n",
        "\n",
        "gcd(18,48)"
      ],
      "metadata": {
        "colab": {
          "base_uri": "https://localhost:8080/"
        },
        "id": "8OD084dOwRWi",
        "outputId": "cb3811ca-cf24-4a8e-d5cd-8966f40590a1"
      },
      "execution_count": 5,
      "outputs": [
        {
          "output_type": "execute_result",
          "data": {
            "text/plain": [
              "6"
            ]
          },
          "metadata": {},
          "execution_count": 5
        }
      ]
    },
    {
      "cell_type": "markdown",
      "source": [
        "# **EXAM 03**"
      ],
      "metadata": {
        "id": "Ev-cXKEqwk7I"
      }
    },
    {
      "cell_type": "markdown",
      "source": [
        "**GCD:Greatest common divisor - Wikipedia gcd(8,12)=4**"
      ],
      "metadata": {
        "id": "mjlYKh2YwphT"
      }
    },
    {
      "cell_type": "markdown",
      "source": [
        "Euclidean algorithm\n",
        "\n",
        "gcd(48,18)\n",
        "\n",
        "= gcd(18,48%18)\n",
        "\n",
        "= gcd(18,12)\n",
        "\n",
        "= gcd(12,18%12)\n",
        "\n",
        "= gcd(12,6)\n",
        "\n",
        "= gcd(6,12%6)\n",
        "\n",
        "= gcd(6,0)\n",
        "\n",
        "= 6\n",
        "\n",
        "output: gcd(n,m)\n",
        "\n",
        "print(gcd(48,18))\n",
        "\n",
        "gcd(18,48) ==> gcd(48,18)\n",
        "\n",
        "gcd(x,0) ==> return x\n",
        "\n",
        "recurrence relation :\n",
        "\n",
        "2.**write a iterative function** for gcd(n,m)v"
      ],
      "metadata": {
        "id": "1i5zfiu3xOOU"
      }
    },
    {
      "cell_type": "code",
      "source": [
        "n = 48\n",
        "m = 18\n",
        "print (\"GCD (%d),(%d)\"% (n,m))\n",
        "while n != m:\n",
        "  if n == m:\n",
        "    print(\"GCD is %d\"% (n))\n",
        "  if n > m:\n",
        "    n -= m\n",
        "  else:\n",
        "    m -= n\n",
        "  if m == n:\n",
        "    print(\"GCD is %d\"% (m))"
      ],
      "metadata": {
        "colab": {
          "base_uri": "https://localhost:8080/"
        },
        "id": "VIhiHvPcxqE0",
        "outputId": "dc44ce36-79e0-4079-b079-01b4a6af545e"
      },
      "execution_count": 6,
      "outputs": [
        {
          "output_type": "stream",
          "name": "stdout",
          "text": [
            "GCD (48),(18)\n",
            "GCD is 6\n"
          ]
        }
      ]
    }
  ]
}
